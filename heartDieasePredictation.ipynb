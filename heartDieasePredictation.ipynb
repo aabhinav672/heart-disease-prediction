{
 "cells": [
  {
   "cell_type": "code",
   "execution_count": 1,
   "id": "a31a069b",
   "metadata": {},
   "outputs": [
    {
     "name": "stdout",
     "output_type": "stream",
     "text": [
      "   Sex_male  age  currentSmoker  cigsPerDay  BPMeds  prevalentStroke  \\\n",
      "0         1   39              0         0.0     0.0                0   \n",
      "1         0   46              0         0.0     0.0                0   \n",
      "2         1   48              1        20.0     0.0                0   \n",
      "3         0   61              1        30.0     0.0                0   \n",
      "4         0   46              1        23.0     0.0                0   \n",
      "\n",
      "   prevalentHyp  diabetes  totChol  sysBP  diaBP    BMI  heartRate  glucose  \\\n",
      "0             0         0    195.0  106.0   70.0  26.97       80.0     77.0   \n",
      "1             0         0    250.0  121.0   81.0  28.73       95.0     76.0   \n",
      "2             0         0    245.0  127.5   80.0  25.34       75.0     70.0   \n",
      "3             1         0    225.0  150.0   95.0  28.58       65.0    103.0   \n",
      "4             0         0    285.0  130.0   84.0  23.10       85.0     85.0   \n",
      "\n",
      "   TenYearCHD  \n",
      "0           0  \n",
      "1           0  \n",
      "2           0  \n",
      "3           1  \n",
      "4           0   (3749, 15)\n",
      "0    3177\n",
      "1     572\n",
      "Name: TenYearCHD, dtype: int64\n"
     ]
    },
    {
     "data": {
      "image/png": "[encoded data removed]",
      "text/plain": [
       "<Figure size 504x360 with 1 Axes>"
      ]
     },
     "metadata": {
      "needs_background": "light"
     },
     "output_type": "display_data"
    },
    {
     "data": {
      "image/png": "[encoded data removed]",
      "text/plain": [
       "<Figure size 432x288 with 1 Axes>"
      ]
     },
     "metadata": {
      "needs_background": "light"
     },
     "output_type": "display_data"
    },
    {
     "name": "stdout",
     "output_type": "stream",
     "text": [
      "Train set: (2624, 6) (2624,)\n",
      "Test set: (1125, 6) (1125,)\n",
      "\n",
      "Accuracy of the model in jaccard similarity score is =  0.10526315789473684\n"
     ]
    },
    {
     "data": {
      "image/png": "[encoded data removed]",
      "text/plain": [
       "<Figure size 576x360 with 2 Axes>"
      ]
     },
     "metadata": {
      "needs_background": "light"
     },
     "output_type": "display_data"
    },
    {
     "name": "stdout",
     "output_type": "stream",
     "text": [
      "The details for confusion matrix is =\n",
      "              precision    recall  f1-score   support\n",
      "\n",
      "           0       0.85      0.99      0.92       944\n",
      "           1       0.69      0.11      0.19       181\n",
      "\n",
      "    accuracy                           0.85      1125\n",
      "   macro avg       0.77      0.55      0.55      1125\n",
      "weighted avg       0.83      0.85      0.80      1125\n",
      "\n"
     ]
    }
   ],
   "source": [
    "import pandas as pd\n",
    "import pylab as pl\n",
    "import numpy as np\n",
    "import scipy.optimize as opt\n",
    "import statsmodels.api as sm\n",
    "from sklearn import preprocessing\n",
    "'exec(% matplotlib inline)'\n",
    "import matplotlib.pyplot as plt\n",
    "import matplotlib.mlab as mlab\n",
    "import seaborn as sn\n",
    "\n",
    "# dataset\n",
    "disease_df = pd.read_csv(\"framingham.csv\")\n",
    "disease_df.drop(['education'], inplace = True, axis = 1)\n",
    "disease_df.rename(columns ={'male':'Sex_male'}, inplace = True)\n",
    "\n",
    "# removing NaN / NULL values\n",
    "disease_df.dropna(axis = 0, inplace = True)\n",
    "print(disease_df.head(), disease_df.shape)\n",
    "print(disease_df.TenYearCHD.value_counts())\n",
    "\n",
    "# counting no. of patients affected with CHD\n",
    "plt.figure(figsize = (7, 5))\n",
    "sn.countplot(x ='TenYearCHD', data = disease_df,\n",
    "\t\t\tpalette =\"BuGn_r\" )\n",
    "plt.show()\n",
    "\n",
    "laste = disease_df['TenYearCHD'].plot()\n",
    "plt.show(laste)\n",
    "\n",
    "X = np.asarray(disease_df[['age', 'Sex_male', 'cigsPerDay',\n",
    "\t\t\t\t\t\t'totChol', 'sysBP', 'glucose']])\n",
    "y = np.asarray(disease_df['TenYearCHD'])\n",
    "\n",
    "# normalization of the dataset\n",
    "X = preprocessing.StandardScaler().fit(X).transform(X)\n",
    "\n",
    "# Train-and-Test -Split\n",
    "from sklearn.model_selection import train_test_split\n",
    "X_train, X_test, y_train, y_test = train_test_split(\n",
    "\t\tX, y, test_size = 0.3, random_state = 4)\n",
    "print ('Train set:', X_train.shape, y_train.shape)\n",
    "print ('Test set:', X_test.shape, y_test.shape)\n",
    "\n",
    "\n",
    "from sklearn.linear_model import LogisticRegression\n",
    "logreg = LogisticRegression()\n",
    "logreg.fit(X_train, y_train)\n",
    "y_pred = logreg.predict(X_test)\n",
    "\n",
    "# Evaluation and accuracy\n",
    "from sklearn.metrics import jaccard_score\n",
    "print('')\n",
    "print('Accuracy of the model in jaccard similarity score is = ',\n",
    "\tjaccard_score(y_test, y_pred))\n",
    "\n",
    "# Confusion matrix\n",
    "from sklearn.metrics import confusion_matrix, classification_report\n",
    "\n",
    "cm = confusion_matrix(y_test, y_pred)\n",
    "conf_matrix = pd.DataFrame(data = cm,\n",
    "\t\t\t\t\t\tcolumns = ['Predicted:0', 'Predicted:1'],\n",
    "\t\t\t\t\t\tindex =['Actual:0', 'Actual:1'])\n",
    "plt.figure(figsize = (8, 5))\n",
    "sn.heatmap(conf_matrix, annot = True, fmt = 'd', cmap = \"Greens\")\n",
    "plt.show()\n",
    "\n",
    "print('The details for confusion matrix is =')\n",
    "print (classification_report(y_test, y_pred))\n",
    "\n",
    "# \n"
   ]
  },
  {
   "cell_type": "code",
   "execution_count": 1,
   "id": "982e689d",
   "metadata": {},
   "outputs": [],
   "source": [
    "import pandas as pd\n",
    "import pylab as pl\n",
    "import numpy as np\n",
    "import scipy.optimize as opt\n",
    "import statsmodels.api as sm\n",
    "from sklearn import preprocessing\n",
    "'exec(% matplotlib inline)'\n",
    "import matplotlib.pyplot as plt\n",
    "import matplotlib.mlab as mlab\n",
    "import seaborn as sn"
   ]
  },
  {
   "cell_type": "code",
   "execution_count": 1,
   "id": "036679d6",
   "metadata": {},
   "outputs": [
    {
     "ename": "NameError",
     "evalue": "name 'pd' is not defined",
     "output_type": "error",
     "traceback": [
      "\u001b[1;31m---------------------------------------------------------------------------\u001b[0m",
      "\u001b[1;31mNameError\u001b[0m                                 Traceback (most recent call last)",
      "\u001b[1;32m~\\AppData\\Local\\Temp/ipykernel_16272/3345402507.py\u001b[0m in \u001b[0;36m<module>\u001b[1;34m\u001b[0m\n\u001b[0;32m      1\u001b[0m \u001b[1;31m# dataset\u001b[0m\u001b[1;33m\u001b[0m\u001b[1;33m\u001b[0m\u001b[0m\n\u001b[1;32m----> 2\u001b[1;33m \u001b[0mdisease_df\u001b[0m \u001b[1;33m=\u001b[0m \u001b[0mpd\u001b[0m\u001b[1;33m.\u001b[0m\u001b[0mread_csv\u001b[0m\u001b[1;33m(\u001b[0m\u001b[1;34m\"framingham.csv\"\u001b[0m\u001b[1;33m)\u001b[0m\u001b[1;33m\u001b[0m\u001b[1;33m\u001b[0m\u001b[0m\n\u001b[0m\u001b[0;32m      3\u001b[0m \u001b[0mdisease_df\u001b[0m\u001b[1;33m.\u001b[0m\u001b[0mdrop\u001b[0m\u001b[1;33m(\u001b[0m\u001b[1;33m[\u001b[0m\u001b[1;34m'education'\u001b[0m\u001b[1;33m]\u001b[0m\u001b[1;33m,\u001b[0m \u001b[0minplace\u001b[0m \u001b[1;33m=\u001b[0m \u001b[1;32mTrue\u001b[0m\u001b[1;33m,\u001b[0m \u001b[0maxis\u001b[0m \u001b[1;33m=\u001b[0m \u001b[1;36m1\u001b[0m\u001b[1;33m)\u001b[0m\u001b[1;33m\u001b[0m\u001b[1;33m\u001b[0m\u001b[0m\n\u001b[0;32m      4\u001b[0m \u001b[0mdisease_df\u001b[0m\u001b[1;33m.\u001b[0m\u001b[0mrename\u001b[0m\u001b[1;33m(\u001b[0m\u001b[0mcolumns\u001b[0m \u001b[1;33m=\u001b[0m\u001b[1;33m{\u001b[0m\u001b[1;34m'male'\u001b[0m\u001b[1;33m:\u001b[0m\u001b[1;34m'Sex_male'\u001b[0m\u001b[1;33m}\u001b[0m\u001b[1;33m,\u001b[0m \u001b[0minplace\u001b[0m \u001b[1;33m=\u001b[0m \u001b[1;32mTrue\u001b[0m\u001b[1;33m)\u001b[0m\u001b[1;33m\u001b[0m\u001b[1;33m\u001b[0m\u001b[0m\n\u001b[0;32m      5\u001b[0m \u001b[1;33m\u001b[0m\u001b[0m\n",
      "\u001b[1;31mNameError\u001b[0m: name 'pd' is not defined"
     ]
    }
   ],
   "source": [
    "# dataset\n",
    "disease_df = pd.read_csv(\"framingham.csv\")\n",
    "disease_df.drop(['education'], inplace = True, axis = 1)\n",
    "disease_df.rename(columns ={'male':'Sex_male'}, inplace = True)\n",
    "\n",
    "# removing NaN / NULL values\n",
    "disease_df.dropna(axis = 0, inplace = True)\n",
    "print(disease_df.head(), disease_df.shape)\n",
    "print(disease_df.TenYearCHD.value_counts())"
   ]
  },
  {
   "cell_type": "code",
   "execution_count": 3,
   "id": "f969ad06",
   "metadata": {},
   "outputs": [
    {
     "data": {
      "image/png": "[encoded data removed]",
      "text/plain": [
       "<Figure size 504x360 with 1 Axes>"
      ]
     },
     "metadata": {
      "needs_background": "light"
     },
     "output_type": "display_data"
    }
   ],
   "source": [
    "# counting no. of patients affected with CHD\n",
    "plt.figure(figsize = (7, 5))\n",
    "sn.countplot(x ='TenYearCHD', data = disease_df,\n",
    "\t\t\tpalette =\"BuGn_r\" )\n",
    "plt.show()"
   ]
  },
  {
   "cell_type": "code",
   "execution_count": 4,
   "id": "102b28ca",
   "metadata": {},
   "outputs": [
    {
     "data": {
      "image/png": "[encoded data removed]",
      "text/plain": [
       "<Figure size 432x288 with 1 Axes>"
      ]
     },
     "metadata": {
      "needs_background": "light"
     },
     "output_type": "display_data"
    }
   ],
   "source": [
    "laste = disease_df['TenYearCHD'].plot()\n",
    "plt.show(laste)"
   ]
  },
  {
   "cell_type": "code",
   "execution_count": 5,
   "id": "1e39e80e",
   "metadata": {},
   "outputs": [
    {
     "name": "stdout",
     "output_type": "stream",
     "text": [
      "Train set: (2624, 6) (2624,)\n",
      "Test set: (1125, 6) (1125,)\n"
     ]
    }
   ],
   "source": [
    "X = np.asarray(disease_df[['age', 'Sex_male', 'cigsPerDay',\n",
    "\t\t\t\t\t\t'totChol', 'sysBP', 'glucose']])\n",
    "y = np.asarray(disease_df['TenYearCHD'])\n",
    "\n",
    "# normalization of the dataset\n",
    "X = preprocessing.StandardScaler().fit(X).transform(X)\n",
    "\n",
    "# Train-and-Test -Split\n",
    "from sklearn.model_selection import train_test_split\n",
    "X_train, X_test, y_train, y_test = train_test_split(\n",
    "\t\tX, y, test_size = 0.3, random_state = 4)\n",
    "print ('Train set:', X_train.shape, y_train.shape)\n",
    "print ('Test set:', X_test.shape, y_test.shape)"
   ]
  },
  {
   "cell_type": "code",
   "execution_count": 6,
   "id": "45adc9bd",
   "metadata": {},
   "outputs": [
    {
     "name": "stdout",
     "output_type": "stream",
     "text": [
      "\n",
      "Accuracy of the model in jaccard similarity score is =  0.10526315789473684\n"
     ]
    }
   ],
   "source": [
    "from sklearn.linear_model import LogisticRegression\n",
    "logreg = LogisticRegression()\n",
    "logreg.fit(X_train, y_train)\n",
    "y_pred = logreg.predict(X_test)\n",
    "\n",
    "# Evaluation and accuracy\n",
    "from sklearn.metrics import jaccard_score\n",
    "print('')\n",
    "print('Accuracy of the model in jaccard similarity score is = ',\n",
    "\tjaccard_score(y_test, y_pred))"
   ]
  },
  {
   "cell_type": "code",
   "execution_count": null,
   "id": "f36d6bc3",
   "metadata": {},
   "outputs": [],
   "source": []
  }
 ],
 "metadata": {
  "kernelspec": {
   "display_name": "Python 3 (ipykernel)",
   "language": "python",
   "name": "python3"
  },
  "language_info": {
   "codemirror_mode": {
    "name": "ipython",
    "version": 3
   },
   "file_extension": ".py",
   "mimetype": "text/x-python",
   "name": "python",
   "nbconvert_exporter": "python",
   "pygments_lexer": "ipython3",
   "version": "3.9.7"
  }
 },
 "nbformat": 4,
 "nbformat_minor": 5
}
